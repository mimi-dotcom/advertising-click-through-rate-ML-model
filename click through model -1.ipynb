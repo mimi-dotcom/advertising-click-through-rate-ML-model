{
    "cells": [
        {
            "cell_type": "code",
            "execution_count": 4,
            "source": [
                "import pandas as pd\n",
                "import numpy as np\n",
                "\n",
                "df=pd.read_csv('advertising.csv')\n",
                "df.columns\n"
            ],
            "outputs": [
                {
                    "output_type": "execute_result",
                    "data": {
                        "text/plain": [
                            "Index(['Daily Time Spent on Site', 'Age', 'Area Income',\n",
                            "       'Daily Internet Usage', 'Ad Topic Line', 'City', 'Male', 'Country',\n",
                            "       'Timestamp', 'Clicked on Ad'],\n",
                            "      dtype='object')"
                        ]
                    },
                    "metadata": {},
                    "execution_count": 4
                }
            ],
            "metadata": {}
        },
        {
            "cell_type": "code",
            "execution_count": 5,
            "source": [
                "#check for null,nan or any missing numbers and clean the data\n",
                "\n",
                "df.isnull().sum()"
            ],
            "outputs": [
                {
                    "output_type": "execute_result",
                    "data": {
                        "text/plain": [
                            "Daily Time Spent on Site    0\n",
                            "Age                         0\n",
                            "Area Income                 0\n",
                            "Daily Internet Usage        0\n",
                            "Ad Topic Line               0\n",
                            "City                        0\n",
                            "Male                        0\n",
                            "Country                     0\n",
                            "Timestamp                   0\n",
                            "Clicked on Ad               0\n",
                            "dtype: int64"
                        ]
                    },
                    "metadata": {},
                    "execution_count": 5
                }
            ],
            "metadata": {}
        },
        {
            "cell_type": "code",
            "execution_count": 6,
            "source": [
                "#the data is okay check the statistics of the data\n",
                "df.describe()\n"
            ],
            "outputs": [
                {
                    "output_type": "execute_result",
                    "data": {
                        "text/plain": [
                            "       Daily Time Spent on Site          Age   Area Income  \\\n",
                            "count               1000.000000  1000.000000   1000.000000   \n",
                            "mean                  65.000200    36.009000  55000.000080   \n",
                            "std                   15.853615     8.785562  13414.634022   \n",
                            "min                   32.600000    19.000000  13996.500000   \n",
                            "25%                   51.360000    29.000000  47031.802500   \n",
                            "50%                   68.215000    35.000000  57012.300000   \n",
                            "75%                   78.547500    42.000000  65470.635000   \n",
                            "max                   91.430000    61.000000  79484.800000   \n",
                            "\n",
                            "       Daily Internet Usage         Male  Clicked on Ad  \n",
                            "count           1000.000000  1000.000000     1000.00000  \n",
                            "mean             180.000100     0.481000        0.50000  \n",
                            "std               43.902339     0.499889        0.50025  \n",
                            "min              104.780000     0.000000        0.00000  \n",
                            "25%              138.830000     0.000000        0.00000  \n",
                            "50%              183.130000     0.000000        0.50000  \n",
                            "75%              218.792500     1.000000        1.00000  \n",
                            "max              269.960000     1.000000        1.00000  "
                        ],
                        "text/html": [
                            "<div>\n",
                            "<style scoped>\n",
                            "    .dataframe tbody tr th:only-of-type {\n",
                            "        vertical-align: middle;\n",
                            "    }\n",
                            "\n",
                            "    .dataframe tbody tr th {\n",
                            "        vertical-align: top;\n",
                            "    }\n",
                            "\n",
                            "    .dataframe thead th {\n",
                            "        text-align: right;\n",
                            "    }\n",
                            "</style>\n",
                            "<table border=\"1\" class=\"dataframe\">\n",
                            "  <thead>\n",
                            "    <tr style=\"text-align: right;\">\n",
                            "      <th></th>\n",
                            "      <th>Daily Time Spent on Site</th>\n",
                            "      <th>Age</th>\n",
                            "      <th>Area Income</th>\n",
                            "      <th>Daily Internet Usage</th>\n",
                            "      <th>Male</th>\n",
                            "      <th>Clicked on Ad</th>\n",
                            "    </tr>\n",
                            "  </thead>\n",
                            "  <tbody>\n",
                            "    <tr>\n",
                            "      <th>count</th>\n",
                            "      <td>1000.000000</td>\n",
                            "      <td>1000.000000</td>\n",
                            "      <td>1000.000000</td>\n",
                            "      <td>1000.000000</td>\n",
                            "      <td>1000.000000</td>\n",
                            "      <td>1000.00000</td>\n",
                            "    </tr>\n",
                            "    <tr>\n",
                            "      <th>mean</th>\n",
                            "      <td>65.000200</td>\n",
                            "      <td>36.009000</td>\n",
                            "      <td>55000.000080</td>\n",
                            "      <td>180.000100</td>\n",
                            "      <td>0.481000</td>\n",
                            "      <td>0.50000</td>\n",
                            "    </tr>\n",
                            "    <tr>\n",
                            "      <th>std</th>\n",
                            "      <td>15.853615</td>\n",
                            "      <td>8.785562</td>\n",
                            "      <td>13414.634022</td>\n",
                            "      <td>43.902339</td>\n",
                            "      <td>0.499889</td>\n",
                            "      <td>0.50025</td>\n",
                            "    </tr>\n",
                            "    <tr>\n",
                            "      <th>min</th>\n",
                            "      <td>32.600000</td>\n",
                            "      <td>19.000000</td>\n",
                            "      <td>13996.500000</td>\n",
                            "      <td>104.780000</td>\n",
                            "      <td>0.000000</td>\n",
                            "      <td>0.00000</td>\n",
                            "    </tr>\n",
                            "    <tr>\n",
                            "      <th>25%</th>\n",
                            "      <td>51.360000</td>\n",
                            "      <td>29.000000</td>\n",
                            "      <td>47031.802500</td>\n",
                            "      <td>138.830000</td>\n",
                            "      <td>0.000000</td>\n",
                            "      <td>0.00000</td>\n",
                            "    </tr>\n",
                            "    <tr>\n",
                            "      <th>50%</th>\n",
                            "      <td>68.215000</td>\n",
                            "      <td>35.000000</td>\n",
                            "      <td>57012.300000</td>\n",
                            "      <td>183.130000</td>\n",
                            "      <td>0.000000</td>\n",
                            "      <td>0.50000</td>\n",
                            "    </tr>\n",
                            "    <tr>\n",
                            "      <th>75%</th>\n",
                            "      <td>78.547500</td>\n",
                            "      <td>42.000000</td>\n",
                            "      <td>65470.635000</td>\n",
                            "      <td>218.792500</td>\n",
                            "      <td>1.000000</td>\n",
                            "      <td>1.00000</td>\n",
                            "    </tr>\n",
                            "    <tr>\n",
                            "      <th>max</th>\n",
                            "      <td>91.430000</td>\n",
                            "      <td>61.000000</td>\n",
                            "      <td>79484.800000</td>\n",
                            "      <td>269.960000</td>\n",
                            "      <td>1.000000</td>\n",
                            "      <td>1.00000</td>\n",
                            "    </tr>\n",
                            "  </tbody>\n",
                            "</table>\n",
                            "</div>"
                        ]
                    },
                    "metadata": {},
                    "execution_count": 6
                }
            ],
            "metadata": {}
        },
        {
            "cell_type": "code",
            "execution_count": 7,
            "source": [
                "#import sklearn to train the data\n",
                "\n",
                "from sklearn.tree import DecisionTreeRegressor\n",
                "\n",
                "\n",
                "#write the script determine the predictor and target\n",
                "\n",
                "y=df[['Clicked on Ad']]\n",
                "\n",
                "\n",
                "X=df[['Daily Time Spent on Site', 'Age', 'Area Income',\n",
                "       'Daily Internet Usage','Male'\n",
                "       ]]\n",
                "\n",
                "\n",
                "\n"
            ],
            "outputs": [],
            "metadata": {}
        },
        {
            "cell_type": "code",
            "execution_count": 10,
            "source": [
                "#define the model\n",
                "df_model=DecisionTreeRegressor(random_state=1)\n",
                "#Fit the model\n",
                "#use Train test split to train and validate the model\n",
                "\n",
                "from sklearn.model_selection import train_test_split\n",
                "\n",
                "train_X,val_X,train_y,val_y=train_test_split(X,y,random_state=1)\n",
                "\n",
                "#define the model\n",
                "df_model=DecisionTreeRegressor(random_state=1)\n",
                "#Fit the model\n",
                "df_model.fit(train_X,train_y)\n",
                "\n",
                "#predict the model\n",
                "df_model.predict(train_X)\n",
                "\n",
                "#calculate the mean absolute error to check the accuracy\n",
                "from sklearn.metrics import mean_absolute_error\n",
                "\n",
                "val_prediction=df_model.predict(val_X)\n",
                "\n",
                "print(mean_absolute_error(val_y,val_prediction))\n",
                "\n",
                "\n",
                "\n",
                "\n",
                "\n"
            ],
            "outputs": [
                {
                    "output_type": "stream",
                    "name": "stdout",
                    "text": [
                        "0.056\n"
                    ]
                }
            ],
            "metadata": {}
        },
        {
            "cell_type": "code",
            "execution_count": 11,
            "source": [
                "#Predict using Random forest regreessor\n",
                "\n",
                "from sklearn.ensemble import RandomForestRegressor\n",
                "\n",
                "#define the model\n",
                "df_model=RandomForestRegressor(random_state=1)\n",
                "\n",
                "#fit the model\n",
                "df_model.fit(train_X,train_y)\n",
                "\n",
                "#predict the model\n",
                "val_prediction=df_model.predict(val_X)\n",
                "\n",
                "print(mean_absolute_error(val_y,val_prediction))"
            ],
            "outputs": [
                {
                    "output_type": "stream",
                    "name": "stdout",
                    "text": [
                        "0.06128000000000001\n"
                    ]
                },
                {
                    "output_type": "stream",
                    "name": "stderr",
                    "text": [
                        "<ipython-input-11-6c25a7013827>:9: DataConversionWarning: A column-vector y was passed when a 1d array was expected. Please change the shape of y to (n_samples,), for example using ravel().\n",
                        "  df_model.fit(train_X,train_y)\n"
                    ]
                }
            ],
            "metadata": {}
        },
        {
            "cell_type": "code",
            "execution_count": 21,
            "source": [
                "from sklearn.linear_model import LinearRegression\n",
                "\n",
                "#define model\n",
                "df_model=LinearRegression()\n",
                "\n",
                "#fit the model\n",
                "df_model.fit(train_X,train_y)\n",
                "\n",
                "#predict the model\n",
                "val_pred=df_model.predict(val_X)\n",
                "\n",
                "print(mean_absolute_error(val_y,val_pred))\n",
                "\n",
                "\n",
                "\n"
            ],
            "outputs": [
                {
                    "output_type": "stream",
                    "name": "stdout",
                    "text": [
                        "0.1564453953050559\n"
                    ]
                }
            ],
            "metadata": {}
        },
        {
            "cell_type": "code",
            "execution_count": null,
            "source": [],
            "outputs": [],
            "metadata": {}
        }
    ],
    "metadata": {
        "orig_nbformat": 4,
        "language_info": {
            "name": "python",
            "version": "3.8.8",
            "mimetype": "text/x-python",
            "codemirror_mode": {
                "name": "ipython",
                "version": 3
            },
            "pygments_lexer": "ipython3",
            "nbconvert_exporter": "python",
            "file_extension": ".py"
        },
        "kernelspec": {
            "name": "python3",
            "display_name": "Python 3.8.8 64-bit ('base': conda)"
        },
        "interpreter": {
            "hash": "dca0ade3e726a953b501b15e8e990130d2b7799f14cfd9f4271676035ebe5511"
        }
    },
    "nbformat": 4,
    "nbformat_minor": 2
}